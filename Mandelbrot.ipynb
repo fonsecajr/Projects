{
  "nbformat": 4,
  "nbformat_minor": 0,
  "metadata": {
    "colab": {
      "name": "Mandelbrot.ipynb",
      "provenance": [],
      "authorship_tag": "ABX9TyMS/QYpazwGAPcG5sOlWHdU",
      "include_colab_link": true
    },
    "kernelspec": {
      "name": "python3",
      "display_name": "Python 3"
    },
    "accelerator": "GPU"
  },
  "cells": [
    {
      "cell_type": "markdown",
      "metadata": {
        "id": "view-in-github",
        "colab_type": "text"
      },
      "source": [
        "<a href=\"https://colab.research.google.com/github/fonsecajr/Projects/blob/master/Mandelbrot.ipynb\" target=\"_parent\"><img src=\"https://colab.research.google.com/assets/colab-badge.svg\" alt=\"Open In Colab\"/></a>"
      ]
    },
    {
      "cell_type": "markdown",
      "metadata": {
        "id": "FtQ_DWF4ilFw",
        "colab_type": "text"
      },
      "source": [
        "“A Mandelbrot set marks the set of points in the complex plane such that the corresponding Julia set is connected and not computable. The Mandelbrot set is the set obtained from the recurrence relation, Z_(n) = Z²_(n-1) + c, where, Z_(0) = c. where c is a complex number” — Wolfram Mathworld."
      ]
    },
    {
      "cell_type": "markdown",
      "metadata": {
        "id": "j9DKQZEnirkQ",
        "colab_type": "text"
      },
      "source": [
        "The colors in a Mandelbrot set represents the iterations at which that complex number diverges to infinity (we can use here some threshold instead of infinity). Generally, the black color is for numbers that converge to zero (here we can use some maximum iteration limit under which if the number is not greater than the threshold value we assume it is converging to zero) and that's all in a Mandelbrot set (not really)."
      ]
    },
    {
      "cell_type": "code",
      "metadata": {
        "id": "XdWVXyM7ic1f",
        "colab_type": "code",
        "colab": {}
      },
      "source": [
        "# Import libraries for simulation\n",
        "import tensorflow as tf\n",
        "assert tf.__version__.startswith('2')\n",
        "import numpy as np\n",
        "\n",
        "# Imports for visualization\n",
        "import PIL.Image\n",
        "from io import BytesIO\n",
        "from IPython.display import clear_output, Image, display"
      ],
      "execution_count": 0,
      "outputs": []
    },
    {
      "cell_type": "code",
      "metadata": {
        "id": "AiNZ7bQunn_v",
        "colab_type": "code",
        "colab": {}
      },
      "source": [
        "# Define a function to actually display the image once you have iteration counts.\n",
        "def DisplayFractal(a, fmt='jpeg'):\n",
        "  \"\"\"Display an array of iteration counts as a\n",
        "     colorful picture of a fractal.\"\"\"\n",
        "  a_cyclic = (6.28*a/20.0).reshape(list(a.shape)+[1])\n",
        "  img = np.concatenate([10+20*np.cos(a_cyclic),\n",
        "                        30+50*np.sin(a_cyclic),\n",
        "                        155-80*np.cos(a_cyclic)], 2)\n",
        "  img[a==a.max()] = 0\n",
        "  a = img\n",
        "  a = np.uint8(np.clip(a, 0, 255))\n",
        "  f = BytesIO()\n",
        "  PIL.Image.fromarray(a).save(f, fmt)\n",
        "  display(Image(data=f.getvalue()))"
      ],
      "execution_count": 0,
      "outputs": []
    },
    {
      "cell_type": "code",
      "metadata": {
        "id": "6OSJ8eFKnuQu",
        "colab_type": "code",
        "colab": {}
      },
      "source": [
        "# Use of NumPy to create a 2D array of complex numbers\n",
        "Y, X = np.mgrid[-1.3:1.3:0.005, -2:1:0.005]\n",
        "Z = X+1j*Y\n",
        "\n",
        "# Define and initialize TensorFlow tensors.\n",
        "xs = tf.constant(Z.astype(np.complex64))\n",
        "zs = tf.Variable(xs)\n",
        "not_diverged =tf.Variable(tf.zeros_like(xs, tf.bool))\n",
        "ns = tf.Variable(tf.zeros_like(xs, tf.float32))"
      ],
      "execution_count": 0,
      "outputs": []
    },
    {
      "cell_type": "code",
      "metadata": {
        "id": "jl8ZiaNKoDYL",
        "colab_type": "code",
        "colab": {}
      },
      "source": [
        "# Specify the computation and run it for a couple hundred steps\n",
        "for i in range(100): \n",
        "  # Compute the new values of z: z^2 + x\n",
        "  zs = zs*zs+xs\n",
        "  # Have we diverged with this new value?\n",
        "  not_diverged = tf.abs(zs) < 4\n",
        "  # Operation to update the iteration count.\n",
        "  #\n",
        "  # Note: We keep computing zs after they diverge! This\n",
        "  #       is very wasteful! There are better, if a little\n",
        "  #       less simple, ways to do this.\n",
        "  #\n",
        "  ns = ns + tf.cast( not_diverged, tf.float32)"
      ],
      "execution_count": 0,
      "outputs": []
    },
    {
      "cell_type": "code",
      "metadata": {
        "id": "1QaNKFamoKzK",
        "colab_type": "code",
        "colab": {}
      },
      "source": [
        "# Convert from tensor to numpy array for visualization\n",
        "ns = ns.numpy()"
      ],
      "execution_count": 0,
      "outputs": []
    },
    {
      "cell_type": "code",
      "metadata": {
        "id": "uAQlNowdoO_n",
        "colab_type": "code",
        "colab": {
          "base_uri": "https://localhost:8080/",
          "height": 537
        },
        "outputId": "07bf13b0-8c32-4ca3-be1e-1093f069f36d"
      },
      "source": [
        "# Let's see what you've got.\n",
        "DisplayFractal(ns)"
      ],
      "execution_count": 43,
      "outputs": [
        {
          "output_type": "display_data",
          "data": {
            "image/jpeg": "[encoded data removed]",
            "text/plain": [
              "<IPython.core.display.Image object>"
            ]
          },
          "metadata": {
            "tags": []
          }
        }
      ]
    }
  ]
}