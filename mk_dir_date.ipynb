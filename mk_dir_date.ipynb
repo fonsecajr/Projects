{
  "nbformat": 4,
  "nbformat_minor": 0,
  "metadata": {
    "colab": {
      "name": "mk_dir_date.ipynb",
      "provenance": [],
      "authorship_tag": "ABX9TyMEcTfr8KuJaEX4sqeTMDjL",
      "include_colab_link": true
    },
    "kernelspec": {
      "name": "python3",
      "display_name": "Python 3"
    }
  },
  "cells": [
    {
      "cell_type": "markdown",
      "metadata": {
        "id": "view-in-github",
        "colab_type": "text"
      },
      "source": [
        "<a href=\"https://colab.research.google.com/github/fonsecajr/Projects/blob/master/mk_dir_date.ipynb\" target=\"_parent\"><img src=\"https://colab.research.google.com/assets/colab-badge.svg\" alt=\"Open In Colab\"/></a>"
      ]
    },
    {
      "cell_type": "code",
      "metadata": {
        "id": "-o1mrLPB2A5y",
        "colab_type": "code",
        "colab": {}
      },
      "source": [
        "import time, datetime, os"
      ],
      "execution_count": 1,
      "outputs": []
    },
    {
      "cell_type": "code",
      "metadata": {
        "id": "rhsUZk7l2INV",
        "colab_type": "code",
        "colab": {
          "base_uri": "https://localhost:8080/",
          "height": 33
        },
        "outputId": "44c959c7-889c-4d79-b4b0-f7b1a91ad62e"
      },
      "source": [
        "# Directory tree creation and set as working directory\n",
        "today= datetime.datetime.now().strftime(\"/%Y/%B/%d\")\n",
        "dirName = \"./andre/{}\".format(today)\n",
        "os.umask(0)\n",
        "os.makedirs(dirName,mode=0o755, exist_ok=True)\n",
        "os.chdir(dirName); print(os.getcwd())"
      ],
      "execution_count": 2,
      "outputs": [
        {
          "output_type": "stream",
          "text": [
            "/content/andre/2020/July/08\n"
          ],
          "name": "stdout"
        }
      ]
    }
  ]
}