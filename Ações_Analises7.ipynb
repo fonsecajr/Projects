{
  "nbformat": 4,
  "nbformat_minor": 0,
  "metadata": {
    "colab": {
      "name": "Ações_Analises7.ipynb",
      "provenance": [],
      "collapsed_sections": [],
      "authorship_tag": "ABX9TyN63ylDZ2d6eafglbCr7IeB",
      "include_colab_link": true
    },
    "kernelspec": {
      "name": "python3",
      "display_name": "Python 3"
    }
  },
  "cells": [
    {
      "cell_type": "markdown",
      "metadata": {
        "id": "view-in-github",
        "colab_type": "text"
      },
      "source": [
        "<a href=\"https://colab.research.google.com/github/fonsecajr/Projects/blob/master/A%C3%A7%C3%B5es_Analises7.ipynb\" target=\"_parent\"><img src=\"https://colab.research.google.com/assets/colab-badge.svg\" alt=\"Open In Colab\"/></a>"
      ]
    },
    {
      "cell_type": "code",
      "metadata": {
        "id": "J2x_Fx-eRNxS",
        "colab_type": "code",
        "colab": {
          "base_uri": "https://localhost:8080/",
          "height": 70
        },
        "outputId": "b1bb6a33-67c7-4c1a-99ba-0e48168ab417"
      },
      "source": [
        "import numpy as np\n",
        "import pandas as pd\n",
        "import matplotlib; matplotlib.rcParams['figure.figsize'] = (22,8)\n",
        "import matplotlib.pyplot as plt\n",
        "import seaborn as sns; sns.set()"
      ],
      "execution_count": 1,
      "outputs": [
        {
          "output_type": "stream",
          "text": [
            "/usr/local/lib/python3.6/dist-packages/statsmodels/tools/_testing.py:19: FutureWarning: pandas.util.testing is deprecated. Use the functions in the public API at pandas.testing instead.\n",
            "  import pandas.util.testing as tm\n"
          ],
          "name": "stderr"
        }
      ]
    },
    {
      "cell_type": "code",
      "metadata": {
        "id": "doiStOijTsyN",
        "colab_type": "code",
        "colab": {
          "base_uri": "https://localhost:8080/",
          "height": 248
        },
        "outputId": "5232865c-3ff7-4306-c1ed-c05a238ac57a"
      },
      "source": [
        "!pip install alpha_vantage"
      ],
      "execution_count": 12,
      "outputs": [
        {
          "output_type": "stream",
          "text": [
            "Requirement already satisfied: alpha_vantage in /usr/local/lib/python3.6/dist-packages (2.2.0)\n",
            "Requirement already satisfied: aiohttp in /usr/local/lib/python3.6/dist-packages (from alpha_vantage) (3.6.2)\n",
            "Requirement already satisfied: requests in /usr/local/lib/python3.6/dist-packages (from alpha_vantage) (2.23.0)\n",
            "Requirement already satisfied: multidict<5.0,>=4.5 in /usr/local/lib/python3.6/dist-packages (from aiohttp->alpha_vantage) (4.7.6)\n",
            "Requirement already satisfied: idna-ssl>=1.0; python_version < \"3.7\" in /usr/local/lib/python3.6/dist-packages (from aiohttp->alpha_vantage) (1.1.0)\n",
            "Requirement already satisfied: attrs>=17.3.0 in /usr/local/lib/python3.6/dist-packages (from aiohttp->alpha_vantage) (19.3.0)\n",
            "Requirement already satisfied: typing-extensions>=3.6.5; python_version < \"3.7\" in /usr/local/lib/python3.6/dist-packages (from aiohttp->alpha_vantage) (3.6.6)\n",
            "Requirement already satisfied: yarl<2.0,>=1.0 in /usr/local/lib/python3.6/dist-packages (from aiohttp->alpha_vantage) (1.4.2)\n",
            "Requirement already satisfied: async-timeout<4.0,>=3.0 in /usr/local/lib/python3.6/dist-packages (from aiohttp->alpha_vantage) (3.0.1)\n",
            "Requirement already satisfied: chardet<4.0,>=2.0 in /usr/local/lib/python3.6/dist-packages (from aiohttp->alpha_vantage) (3.0.4)\n",
            "Requirement already satisfied: idna<3,>=2.5 in /usr/local/lib/python3.6/dist-packages (from requests->alpha_vantage) (2.9)\n",
            "Requirement already satisfied: urllib3!=1.25.0,!=1.25.1,<1.26,>=1.21.1 in /usr/local/lib/python3.6/dist-packages (from requests->alpha_vantage) (1.24.3)\n",
            "Requirement already satisfied: certifi>=2017.4.17 in /usr/local/lib/python3.6/dist-packages (from requests->alpha_vantage) (2020.4.5.1)\n"
          ],
          "name": "stdout"
        }
      ]
    },
    {
      "cell_type": "code",
      "metadata": {
        "id": "zSb1-GNsUznY",
        "colab_type": "code",
        "colab": {}
      },
      "source": [
        "from alpha_vantage.timeseries import TimeSeries"
      ],
      "execution_count": 0,
      "outputs": []
    },
    {
      "cell_type": "code",
      "metadata": {
        "id": "ILYv2TkST_9d",
        "colab_type": "code",
        "colab": {}
      },
      "source": [
        "#https://www.alphavantage.co/support/#api-key\n",
        "#Code hidden: ALPHAVANTAGE_API_KEY =''"
      ],
      "execution_count": 0,
      "outputs": []
    },
    {
      "cell_type": "code",
      "metadata": {
        "id": "xUC4JCsZVhsJ",
        "colab_type": "code",
        "colab": {},
        "cellView": "form"
      },
      "source": [
        "#@title\n",
        "ALPHAVANTAGE_API_KEY ='U24XKD1TK6BEEMQS'"
      ],
      "execution_count": 0,
      "outputs": []
    },
    {
      "cell_type": "code",
      "metadata": {
        "id": "Lmj9l2OIXO1I",
        "colab_type": "code",
        "colab": {}
      },
      "source": [
        "ts = TimeSeries(key=ALPHAVANTAGE_API_KEY, output_format='pandas')"
      ],
      "execution_count": 0,
      "outputs": []
    },
    {
      "cell_type": "code",
      "metadata": {
        "id": "tv-iyfoiXYjN",
        "colab_type": "code",
        "colab": {
          "base_uri": "https://localhost:8080/",
          "height": 180
        },
        "outputId": "df9c5ff7-0272-4ec7-f928-f5e93924e4a8"
      },
      "source": [
        "ts.get_symbol_search('bov')"
      ],
      "execution_count": 55,
      "outputs": [
        {
          "output_type": "execute_result",
          "data": {
            "text/plain": [
              "(                                1. symbol  ... 9. matchScore\n",
              " date                                       ...              \n",
              " 1970-01-01 00:00:00.000000000  BOVA11.SAO  ...        0.7500\n",
              " 1970-01-01 00:00:00.000000001  BOVV11.SAO  ...        0.6667\n",
              " 1970-01-01 00:00:00.000000002     BOV.FRK  ...        0.5000\n",
              " 1970-01-01 00:00:00.000000003  BOVB11.SAO  ...        0.5000\n",
              " 1970-01-01 00:00:00.000000004   S3609.MDR  ...        0.5000\n",
              " 1970-01-01 00:00:00.000000005     BOV.STG  ...        0.2222\n",
              " \n",
              " [6 rows x 9 columns], None)"
            ]
          },
          "metadata": {
            "tags": []
          },
          "execution_count": 55
        }
      ]
    },
    {
      "cell_type": "code",
      "metadata": {
        "id": "NjD1FTRVXi0O",
        "colab_type": "code",
        "colab": {}
      },
      "source": [
        "dados, meta_dados = ts.get_daily(symbol='bova11.sao', outputsize='full')"
      ],
      "execution_count": 0,
      "outputs": []
    },
    {
      "cell_type": "code",
      "metadata": {
        "id": "WQpTerNPcYqC",
        "colab_type": "code",
        "colab": {
          "base_uri": "https://localhost:8080/",
          "height": 420
        },
        "outputId": "c05d63b6-e3dd-4eb7-d2c0-dc97cf875749"
      },
      "source": [
        "dados"
      ],
      "execution_count": 57,
      "outputs": [
        {
          "output_type": "execute_result",
          "data": {
            "text/html": [
              "<div>\n",
              "<style scoped>\n",
              "    .dataframe tbody tr th:only-of-type {\n",
              "        vertical-align: middle;\n",
              "    }\n",
              "\n",
              "    .dataframe tbody tr th {\n",
              "        vertical-align: top;\n",
              "    }\n",
              "\n",
              "    .dataframe thead th {\n",
              "        text-align: right;\n",
              "    }\n",
              "</style>\n",
              "<table border=\"1\" class=\"dataframe\">\n",
              "  <thead>\n",
              "    <tr style=\"text-align: right;\">\n",
              "      <th></th>\n",
              "      <th>1. open</th>\n",
              "      <th>2. high</th>\n",
              "      <th>3. low</th>\n",
              "      <th>4. close</th>\n",
              "      <th>5. volume</th>\n",
              "    </tr>\n",
              "    <tr>\n",
              "      <th>date</th>\n",
              "      <th></th>\n",
              "      <th></th>\n",
              "      <th></th>\n",
              "      <th></th>\n",
              "      <th></th>\n",
              "    </tr>\n",
              "  </thead>\n",
              "  <tbody>\n",
              "    <tr>\n",
              "      <th>2020-05-21</th>\n",
              "      <td>78.59</td>\n",
              "      <td>80.30</td>\n",
              "      <td>78.46</td>\n",
              "      <td>79.97</td>\n",
              "      <td>12578810.0</td>\n",
              "    </tr>\n",
              "    <tr>\n",
              "      <th>2020-05-20</th>\n",
              "      <td>78.31</td>\n",
              "      <td>79.27</td>\n",
              "      <td>77.85</td>\n",
              "      <td>78.32</td>\n",
              "      <td>13277450.0</td>\n",
              "    </tr>\n",
              "    <tr>\n",
              "      <th>2020-05-19</th>\n",
              "      <td>78.34</td>\n",
              "      <td>79.18</td>\n",
              "      <td>77.62</td>\n",
              "      <td>77.84</td>\n",
              "      <td>13781890.0</td>\n",
              "    </tr>\n",
              "    <tr>\n",
              "      <th>2020-05-18</th>\n",
              "      <td>77.24</td>\n",
              "      <td>78.49</td>\n",
              "      <td>76.91</td>\n",
              "      <td>78.35</td>\n",
              "      <td>13748530.0</td>\n",
              "    </tr>\n",
              "    <tr>\n",
              "      <th>2020-05-15</th>\n",
              "      <td>75.70</td>\n",
              "      <td>76.66</td>\n",
              "      <td>74.48</td>\n",
              "      <td>74.56</td>\n",
              "      <td>13103190.0</td>\n",
              "    </tr>\n",
              "    <tr>\n",
              "      <th>...</th>\n",
              "      <td>...</td>\n",
              "      <td>...</td>\n",
              "      <td>...</td>\n",
              "      <td>...</td>\n",
              "      <td>...</td>\n",
              "    </tr>\n",
              "    <tr>\n",
              "      <th>2008-12-08</th>\n",
              "      <td>37.35</td>\n",
              "      <td>38.46</td>\n",
              "      <td>36.95</td>\n",
              "      <td>38.46</td>\n",
              "      <td>103100.0</td>\n",
              "    </tr>\n",
              "    <tr>\n",
              "      <th>2008-12-05</th>\n",
              "      <td>34.51</td>\n",
              "      <td>35.35</td>\n",
              "      <td>34.11</td>\n",
              "      <td>35.35</td>\n",
              "      <td>193700.0</td>\n",
              "    </tr>\n",
              "    <tr>\n",
              "      <th>2008-12-04</th>\n",
              "      <td>35.80</td>\n",
              "      <td>36.00</td>\n",
              "      <td>35.15</td>\n",
              "      <td>35.70</td>\n",
              "      <td>128400.0</td>\n",
              "    </tr>\n",
              "    <tr>\n",
              "      <th>2008-12-03</th>\n",
              "      <td>34.73</td>\n",
              "      <td>35.40</td>\n",
              "      <td>33.90</td>\n",
              "      <td>35.31</td>\n",
              "      <td>330100.0</td>\n",
              "    </tr>\n",
              "    <tr>\n",
              "      <th>2008-12-02</th>\n",
              "      <td>35.11</td>\n",
              "      <td>35.81</td>\n",
              "      <td>34.91</td>\n",
              "      <td>35.39</td>\n",
              "      <td>759900.0</td>\n",
              "    </tr>\n",
              "  </tbody>\n",
              "</table>\n",
              "<p>2840 rows × 5 columns</p>\n",
              "</div>"
            ],
            "text/plain": [
              "            1. open  2. high  3. low  4. close   5. volume\n",
              "date                                                      \n",
              "2020-05-21    78.59    80.30   78.46     79.97  12578810.0\n",
              "2020-05-20    78.31    79.27   77.85     78.32  13277450.0\n",
              "2020-05-19    78.34    79.18   77.62     77.84  13781890.0\n",
              "2020-05-18    77.24    78.49   76.91     78.35  13748530.0\n",
              "2020-05-15    75.70    76.66   74.48     74.56  13103190.0\n",
              "...             ...      ...     ...       ...         ...\n",
              "2008-12-08    37.35    38.46   36.95     38.46    103100.0\n",
              "2008-12-05    34.51    35.35   34.11     35.35    193700.0\n",
              "2008-12-04    35.80    36.00   35.15     35.70    128400.0\n",
              "2008-12-03    34.73    35.40   33.90     35.31    330100.0\n",
              "2008-12-02    35.11    35.81   34.91     35.39    759900.0\n",
              "\n",
              "[2840 rows x 5 columns]"
            ]
          },
          "metadata": {
            "tags": []
          },
          "execution_count": 57
        }
      ]
    },
    {
      "cell_type": "code",
      "metadata": {
        "id": "JkEzUaY3cbh7",
        "colab_type": "code",
        "colab": {
          "base_uri": "https://localhost:8080/",
          "height": 98
        },
        "outputId": "d365f1a5-e2e1-4074-8f53-f297a7622b4a"
      },
      "source": [
        "meta_dados"
      ],
      "execution_count": 58,
      "outputs": [
        {
          "output_type": "execute_result",
          "data": {
            "text/plain": [
              "{'1. Information': 'Daily Prices (open, high, low, close) and Volumes',\n",
              " '2. Symbol': 'bova11.sao',\n",
              " '3. Last Refreshed': '2020-05-21',\n",
              " '4. Output Size': 'Full size',\n",
              " '5. Time Zone': 'US/Eastern'}"
            ]
          },
          "metadata": {
            "tags": []
          },
          "execution_count": 58
        }
      ]
    },
    {
      "cell_type": "code",
      "metadata": {
        "id": "1nNtIIYXchLu",
        "colab_type": "code",
        "colab": {
          "base_uri": "https://localhost:8080/",
          "height": 347
        },
        "outputId": "94c59a31-03c3-4e6f-f5f9-b4dc219305b9"
      },
      "source": [
        "dados['4. close'].plot(figsize=(22,8))"
      ],
      "execution_count": 60,
      "outputs": [
        {
          "output_type": "execute_result",
          "data": {
            "text/plain": [
              "<matplotlib.axes._subplots.AxesSubplot at 0x7f768fcc02e8>"
            ]
          },
          "metadata": {
            "tags": []
          },
          "execution_count": 60
        },
        {
          "output_type": "display_data",
          "data": {
            "image/png": "[encoded data removed]",
            "text/plain": [
              "<Figure size 1584x576 with 1 Axes>"
            ]
          },
          "metadata": {
            "tags": [],
            "needs_background": "light"
          }
        }
      ]
    }
  ]
}