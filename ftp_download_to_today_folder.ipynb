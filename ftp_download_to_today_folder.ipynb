{
  "nbformat": 4,
  "nbformat_minor": 0,
  "metadata": {
    "colab": {
      "name": "ftp_download_to_today_folder.ipynb",
      "provenance": [],
      "authorship_tag": "ABX9TyPIcNdIaceqsxiHsbM5URQD",
      "include_colab_link": true
    },
    "kernelspec": {
      "name": "python3",
      "display_name": "Python 3"
    }
  },
  "cells": [
    {
      "cell_type": "markdown",
      "metadata": {
        "id": "view-in-github",
        "colab_type": "text"
      },
      "source": [
        "<a href=\"https://colab.research.google.com/github/fonsecajr/Projects/blob/master/ftp_download_to_today_folder.ipynb\" target=\"_parent\"><img src=\"https://colab.research.google.com/assets/colab-badge.svg\" alt=\"Open In Colab\"/></a>"
      ]
    },
    {
      "cell_type": "code",
      "metadata": {
        "id": "NnXLwaU-cHIP",
        "colab_type": "code",
        "colab": {}
      },
      "source": [
        "import time, datetime, os\n",
        "import ftplib as FTP"
      ],
      "execution_count": 47,
      "outputs": []
    },
    {
      "cell_type": "code",
      "metadata": {
        "id": "WVqKbYSQnrb1",
        "colab_type": "code",
        "colab": {
          "base_uri": "https://localhost:8080/",
          "height": 33
        },
        "outputId": "ece051cc-6386-439c-d313-ee2663a82daa"
      },
      "source": [
        "today= datetime.datetime.now().strftime(\"/%Y/%B/%d\")\n",
        "dirName = \"./xxx/{}\".format(today)\n",
        "os.umask(0)\n",
        "os.makedirs(dirName,mode=0o755, exist_ok=True)\n",
        "os.chdir(dirName); print(os.getcwd())"
      ],
      "execution_count": 48,
      "outputs": [
        {
          "output_type": "stream",
          "text": [
            "/content/LAPAU5/2020/July/08\n"
          ],
          "name": "stdout"
        }
      ]
    },
    {
      "cell_type": "code",
      "metadata": {
        "id": "Z2v8Zuh0cOvR",
        "colab_type": "code",
        "colab": {}
      },
      "source": [
        "ftp = FTP.FTP('ftp1.xxx.com.mx', user='xxx', passwd='xxx')"
      ],
      "execution_count": 49,
      "outputs": []
    },
    {
      "cell_type": "code",
      "metadata": {
        "id": "UqrWrGgWhnWl",
        "colab_type": "code",
        "colab": {
          "base_uri": "https://localhost:8080/",
          "height": 33
        },
        "outputId": "e5c18626-c270-4732-e2cc-47bd064f329a"
      },
      "source": [
        "names = ftp.nlst()\n",
        "\n",
        "latest_time = None\n",
        "latest_name = None\n",
        "\n",
        "for name in names:\n",
        "    time = ftp.voidcmd(\"MDTM \" + name)\n",
        "    if (latest_time is None) or (time > latest_time):\n",
        "        latest_name = name\n",
        "        latest_time = time\n",
        "\n",
        "print(latest_name)"
      ],
      "execution_count": 50,
      "outputs": [
        {
          "output_type": "stream",
          "text": [
            "VENTAS_20200707.csv\n"
          ],
          "name": "stdout"
        }
      ]
    },
    {
      "cell_type": "code",
      "metadata": {
        "id": "7QlKoKUwlDoZ",
        "colab_type": "code",
        "colab": {
          "base_uri": "https://localhost:8080/",
          "height": 35
        },
        "outputId": "442b4c8f-6eac-441b-c5ac-9efb38f523b3"
      },
      "source": [
        "ftp.retrbinary(\"RETR \" + latest_name ,open(latest_name, 'wb').write)"
      ],
      "execution_count": 51,
      "outputs": [
        {
          "output_type": "execute_result",
          "data": {
            "application/vnd.google.colaboratory.intrinsic": {
              "type": "string"
            },
            "text/plain": [
              "'226 Transfer complete.'"
            ]
          },
          "metadata": {
            "tags": []
          },
          "execution_count": 51
        }
      ]
    },
    {
      "cell_type": "code",
      "metadata": {
        "id": "DDF28VpsesLc",
        "colab_type": "code",
        "colab": {
          "base_uri": "https://localhost:8080/",
          "height": 35
        },
        "outputId": "f5250b08-0995-42c4-a75b-9fecd63f2986"
      },
      "source": [
        "ftp.quit()"
      ],
      "execution_count": 52,
      "outputs": [
        {
          "output_type": "execute_result",
          "data": {
            "application/vnd.google.colaboratory.intrinsic": {
              "type": "string"
            },
            "text/plain": [
              "'221-Gracias por usar el servicio \\n221 Bye.........'"
            ]
          },
          "metadata": {
            "tags": []
          },
          "execution_count": 52
        }
      ]
    }
  ]
}