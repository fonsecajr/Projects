{
  "nbformat": 4,
  "nbformat_minor": 0,
  "metadata": {
    "colab": {
      "name": "Analises_Ações10.ipynb",
      "provenance": [],
      "authorship_tag": "ABX9TyMzmhTPWQvzkJMrqLU1NHo3",
      "include_colab_link": true
    },
    "kernelspec": {
      "name": "python3",
      "display_name": "Python 3"
    }
  },
  "cells": [
    {
      "cell_type": "markdown",
      "metadata": {
        "id": "view-in-github",
        "colab_type": "text"
      },
      "source": [
        "<a href=\"https://colab.research.google.com/github/fonsecajr/Projects/blob/master/Analises_A%C3%A7%C3%B5es10.ipynb\" target=\"_parent\"><img src=\"https://colab.research.google.com/assets/colab-badge.svg\" alt=\"Open In Colab\"/></a>"
      ]
    },
    {
      "cell_type": "code",
      "metadata": {
        "id": "D617HpgHZR6L",
        "colab_type": "code",
        "outputId": "3a9e6e20-661d-4219-f75c-31db7d498e8b",
        "colab": {
          "base_uri": "https://localhost:8080/",
          "height": 135
        }
      },
      "source": [
        "!pip install gspread"
      ],
      "execution_count": 55,
      "outputs": [
        {
          "output_type": "stream",
          "text": [
            "Requirement already satisfied: gspread in /usr/local/lib/python3.6/dist-packages (3.0.1)\n",
            "Requirement already satisfied: requests>=2.2.1 in /usr/local/lib/python3.6/dist-packages (from gspread) (2.23.0)\n",
            "Requirement already satisfied: urllib3!=1.25.0,!=1.25.1,<1.26,>=1.21.1 in /usr/local/lib/python3.6/dist-packages (from requests>=2.2.1->gspread) (1.24.3)\n",
            "Requirement already satisfied: idna<3,>=2.5 in /usr/local/lib/python3.6/dist-packages (from requests>=2.2.1->gspread) (2.9)\n",
            "Requirement already satisfied: certifi>=2017.4.17 in /usr/local/lib/python3.6/dist-packages (from requests>=2.2.1->gspread) (2020.4.5.1)\n",
            "Requirement already satisfied: chardet<4,>=3.0.2 in /usr/local/lib/python3.6/dist-packages (from requests>=2.2.1->gspread) (3.0.4)\n"
          ],
          "name": "stdout"
        }
      ]
    },
    {
      "cell_type": "code",
      "metadata": {
        "id": "aUC6nEh6Z-Lg",
        "colab_type": "code",
        "colab": {}
      },
      "source": [
        "from google.colab import auth\n",
        "import gspread\n",
        "from oauth2client.client import GoogleCredentials"
      ],
      "execution_count": 0,
      "outputs": []
    },
    {
      "cell_type": "code",
      "metadata": {
        "id": "Xmu9RZEqaZ49",
        "colab_type": "code",
        "colab": {}
      },
      "source": [
        "auth.authenticate_user()\n",
        "gd = gspread.authorize(GoogleCredentials.get_application_default())"
      ],
      "execution_count": 0,
      "outputs": []
    },
    {
      "cell_type": "code",
      "metadata": {
        "id": "70GQR5X2z6xl",
        "colab_type": "code",
        "colab": {}
      },
      "source": [
        "import pandas as pd"
      ],
      "execution_count": 0,
      "outputs": []
    },
    {
      "cell_type": "code",
      "metadata": {
        "id": "zeDTc4zVb4nv",
        "colab_type": "code",
        "colab": {}
      },
      "source": [
        "plan_carteira = gd.create('Carteira')"
      ],
      "execution_count": 0,
      "outputs": []
    },
    {
      "cell_type": "code",
      "metadata": {
        "id": "Dt6IL2Q1z9-t",
        "colab_type": "code",
        "colab": {}
      },
      "source": [
        "carteira = pd.DataFrame(plan_carteira.sheet1.get_all_records()) # Make sure there is/are any/some record(s) # Make sure there is/are any/some record(s) ! take some moment to update after data creation on Spreadsheet\n",
        "carteira.set_index('Cod', inplace=True) # Make sure there is/are any/some record(s) ! take some moment to update after data creation on Spreadsheet\n",
        "carteira"
      ],
      "execution_count": 0,
      "outputs": []
    },
    {
      "cell_type": "code",
      "metadata": {
        "id": "1ItcnEodqTUd",
        "colab_type": "code",
        "colab": {
          "base_uri": "https://localhost:8080/",
          "height": 33
        },
        "outputId": "ee4804d7-d1a3-4e50-f304-9ef5dbc40201"
      },
      "source": [
        "plan_carteira.add_worksheet('Cotações Yahoo', 2000, 140)"
      ],
      "execution_count": 62,
      "outputs": [
        {
          "output_type": "execute_result",
          "data": {
            "text/plain": [
              "<Worksheet 'Cotações Yahoo' id:1551803804>"
            ]
          },
          "metadata": {
            "tags": []
          },
          "execution_count": 62
        }
      ]
    },
    {
      "cell_type": "code",
      "metadata": {
        "id": "Fcp1y-T5q3Dy",
        "colab_type": "code",
        "colab": {
          "base_uri": "https://localhost:8080/",
          "height": 232
        },
        "outputId": "3ff82cf6-f669-4450-d2d4-19fa1f0a7897"
      },
      "source": [
        "!pip install yfinance"
      ],
      "execution_count": 63,
      "outputs": [
        {
          "output_type": "stream",
          "text": [
            "Requirement already satisfied: yfinance in /usr/local/lib/python3.6/dist-packages (0.1.54)\n",
            "Requirement already satisfied: requests>=2.20 in /usr/local/lib/python3.6/dist-packages (from yfinance) (2.23.0)\n",
            "Requirement already satisfied: pandas>=0.24 in /usr/local/lib/python3.6/dist-packages (from yfinance) (1.0.3)\n",
            "Requirement already satisfied: numpy>=1.15 in /usr/local/lib/python3.6/dist-packages (from yfinance) (1.18.4)\n",
            "Requirement already satisfied: multitasking>=0.0.7 in /usr/local/lib/python3.6/dist-packages (from yfinance) (0.0.9)\n",
            "Requirement already satisfied: idna<3,>=2.5 in /usr/local/lib/python3.6/dist-packages (from requests>=2.20->yfinance) (2.9)\n",
            "Requirement already satisfied: urllib3!=1.25.0,!=1.25.1,<1.26,>=1.21.1 in /usr/local/lib/python3.6/dist-packages (from requests>=2.20->yfinance) (1.24.3)\n",
            "Requirement already satisfied: certifi>=2017.4.17 in /usr/local/lib/python3.6/dist-packages (from requests>=2.20->yfinance) (2020.4.5.1)\n",
            "Requirement already satisfied: chardet<4,>=3.0.2 in /usr/local/lib/python3.6/dist-packages (from requests>=2.20->yfinance) (3.0.4)\n",
            "Requirement already satisfied: pytz>=2017.2 in /usr/local/lib/python3.6/dist-packages (from pandas>=0.24->yfinance) (2018.9)\n",
            "Requirement already satisfied: python-dateutil>=2.6.1 in /usr/local/lib/python3.6/dist-packages (from pandas>=0.24->yfinance) (2.8.1)\n",
            "Requirement already satisfied: six>=1.5 in /usr/local/lib/python3.6/dist-packages (from python-dateutil>=2.6.1->pandas>=0.24->yfinance) (1.12.0)\n"
          ],
          "name": "stdout"
        }
      ]
    },
    {
      "cell_type": "code",
      "metadata": {
        "id": "HtZUK6pJq-_i",
        "colab_type": "code",
        "colab": {}
      },
      "source": [
        "import yfinance as yf"
      ],
      "execution_count": 0,
      "outputs": []
    },
    {
      "cell_type": "code",
      "metadata": {
        "id": "4Q841BLwrII-",
        "colab_type": "code",
        "colab": {}
      },
      "source": [
        "tickers_ibov = \"ABEV3.SA AZUL4.SA B3SA3.SA BBAS3.SA BBDC4.SA BBSE3.SA BPAC11.SA BRAP4.SA BRDT3.SA BRFS3.SA BRKM5.SA BRML3.SA BTOW3.SA CCRO3.SA CIEL3.SA CMIG4.SA COGN3.SA CRFB3.SA CSAN3.SA CSNA3.SA CVCB3.SA CYRE3.SA ECOR3.SA EGIE3.SA ELET6.SA EMBR3.SA ENBR3.SA EQTL3.SA FLRY3.SA GGBR4.SA GNDI3.SA GOAU4.SA GOLL4.SA HAPV3.SA HGTX3.SA HYPE3.SA IGTA3.SA IRBR3.SA ITSA4.SA ITUB4.SA JBSS3.SA KLBN11.SA LAME4.SA LREN3.SA MGLU3.SA MRFG3.SA MRVE3.SA MULT3.SA NTCO3.SA PCAR4.SA PETR4.SA QUAL3.SA RADL3.SA RAIL3.SA RENT3.SA SANB11.SA SBSP3.SA SMLS3.SA SULA11.SA SUZB3.SA TAEE11.SA TIMP3.SA TOTS3.SA UGPA3.SA USIM5.SA VALE3.SA VIVT4.SA VVAR3.SA WEGE3.SA YDUQ3.SA\""
      ],
      "execution_count": 0,
      "outputs": []
    },
    {
      "cell_type": "code",
      "metadata": {
        "id": "HbHijtskregc",
        "colab_type": "code",
        "colab": {
          "base_uri": "https://localhost:8080/",
          "height": 33
        },
        "outputId": "3c90773d-beab-4988-d69e-242c30bea60f"
      },
      "source": [
        "portfolio = yf.download(tickers=tickers_ibov, period='10y')['Adj Close']"
      ],
      "execution_count": 66,
      "outputs": [
        {
          "output_type": "stream",
          "text": [
            "[*********************100%***********************]  70 of 70 completed\n"
          ],
          "name": "stdout"
        }
      ]
    },
    {
      "cell_type": "code",
      "metadata": {
        "id": "TlMJ0_Q2sHNt",
        "colab_type": "code",
        "colab": {}
      },
      "source": [
        "pagina_yahoo = plan_carteira.get_worksheet(1) # Selecionando a segunda página, a primeira é 0"
      ],
      "execution_count": 0,
      "outputs": []
    },
    {
      "cell_type": "code",
      "metadata": {
        "id": "ANZ_8Kt_sajH",
        "colab_type": "code",
        "colab": {
          "base_uri": "https://localhost:8080/",
          "height": 212
        },
        "outputId": "d3af67f4-ab4c-4513-ae29-9ecfe83b6374"
      },
      "source": [
        "# Para exportar o Dataframe para a Spreedsheet ! Precisa setar a lanilha para Inglês.\n",
        "!pip install gspread-dataframe\n",
        "from gspread_dataframe import get_as_dataframe, set_with_dataframe"
      ],
      "execution_count": 68,
      "outputs": [
        {
          "output_type": "stream",
          "text": [
            "Requirement already satisfied: gspread-dataframe in /usr/local/lib/python3.6/dist-packages (3.0.6)\n",
            "Requirement already satisfied: gspread>=3.0.0 in /usr/local/lib/python3.6/dist-packages (from gspread-dataframe) (3.0.1)\n",
            "Requirement already satisfied: pandas>=0.14.0 in /usr/local/lib/python3.6/dist-packages (from gspread-dataframe) (1.0.3)\n",
            "Requirement already satisfied: requests>=2.2.1 in /usr/local/lib/python3.6/dist-packages (from gspread>=3.0.0->gspread-dataframe) (2.23.0)\n",
            "Requirement already satisfied: numpy>=1.13.3 in /usr/local/lib/python3.6/dist-packages (from pandas>=0.14.0->gspread-dataframe) (1.18.4)\n",
            "Requirement already satisfied: pytz>=2017.2 in /usr/local/lib/python3.6/dist-packages (from pandas>=0.14.0->gspread-dataframe) (2018.9)\n",
            "Requirement already satisfied: python-dateutil>=2.6.1 in /usr/local/lib/python3.6/dist-packages (from pandas>=0.14.0->gspread-dataframe) (2.8.1)\n",
            "Requirement already satisfied: idna<3,>=2.5 in /usr/local/lib/python3.6/dist-packages (from requests>=2.2.1->gspread>=3.0.0->gspread-dataframe) (2.9)\n",
            "Requirement already satisfied: urllib3!=1.25.0,!=1.25.1,<1.26,>=1.21.1 in /usr/local/lib/python3.6/dist-packages (from requests>=2.2.1->gspread>=3.0.0->gspread-dataframe) (1.24.3)\n",
            "Requirement already satisfied: certifi>=2017.4.17 in /usr/local/lib/python3.6/dist-packages (from requests>=2.2.1->gspread>=3.0.0->gspread-dataframe) (2020.4.5.1)\n",
            "Requirement already satisfied: chardet<4,>=3.0.2 in /usr/local/lib/python3.6/dist-packages (from requests>=2.2.1->gspread>=3.0.0->gspread-dataframe) (3.0.4)\n",
            "Requirement already satisfied: six>=1.5 in /usr/local/lib/python3.6/dist-packages (from python-dateutil>=2.6.1->pandas>=0.14.0->gspread-dataframe) (1.12.0)\n"
          ],
          "name": "stdout"
        }
      ]
    },
    {
      "cell_type": "code",
      "metadata": {
        "id": "BhaPGvJcswHH",
        "colab_type": "code",
        "colab": {}
      },
      "source": [
        "set_with_dataframe(pagina_yahoo, portfolio, include_index=True) # Para exportar o Dataframe"
      ],
      "execution_count": 0,
      "outputs": []
    },
    {
      "cell_type": "code",
      "metadata": {
        "id": "Q1l4sckq0lSb",
        "colab_type": "code",
        "colab": {
          "base_uri": "https://localhost:8080/",
          "height": 33
        },
        "outputId": "d0907593-acbd-4f78-8fa6-73335e84d6d3"
      },
      "source": [
        "plan_carteira.add_worksheet('fundamentus', 500, 20)"
      ],
      "execution_count": 70,
      "outputs": [
        {
          "output_type": "execute_result",
          "data": {
            "text/plain": [
              "<Worksheet 'fundamentus' id:845500745>"
            ]
          },
          "metadata": {
            "tags": []
          },
          "execution_count": 70
        }
      ]
    },
    {
      "cell_type": "code",
      "metadata": {
        "id": "DfXXevvY01bI",
        "colab_type": "code",
        "colab": {}
      },
      "source": [
        "pagina_fundamentus = plan_carteira.get_worksheet(2)"
      ],
      "execution_count": 0,
      "outputs": []
    },
    {
      "cell_type": "code",
      "metadata": {
        "id": "ZtkTgg5G07dy",
        "colab_type": "code",
        "colab": {}
      },
      "source": [
        "url = 'https://www.fundamentus.com.br/resultado.php'"
      ],
      "execution_count": 0,
      "outputs": []
    },
    {
      "cell_type": "code",
      "metadata": {
        "id": "yYlJinRG1DEV",
        "colab_type": "code",
        "colab": {}
      },
      "source": [
        "df = pd.read_html(url, decimal=',', thousands='.')[0] # Não esquece do [0]"
      ],
      "execution_count": 0,
      "outputs": []
    },
    {
      "cell_type": "code",
      "metadata": {
        "id": "QyiXorHo4hBJ",
        "colab_type": "code",
        "colab": {
          "base_uri": "https://localhost:8080/",
          "height": 391
        },
        "outputId": "88d8ebda-7119-4d02-d3a8-0ad33f6a1f95"
      },
      "source": [
        "df"
      ],
      "execution_count": 86,
      "outputs": [
        {
          "output_type": "execute_result",
          "data": {
            "text/html": [
              "<div>\n",
              "<style scoped>\n",
              "    .dataframe tbody tr th:only-of-type {\n",
              "        vertical-align: middle;\n",
              "    }\n",
              "\n",
              "    .dataframe tbody tr th {\n",
              "        vertical-align: top;\n",
              "    }\n",
              "\n",
              "    .dataframe thead th {\n",
              "        text-align: right;\n",
              "    }\n",
              "</style>\n",
              "<table border=\"1\" class=\"dataframe\">\n",
              "  <thead>\n",
              "    <tr style=\"text-align: right;\">\n",
              "      <th></th>\n",
              "      <th>Papel</th>\n",
              "      <th>Cotação</th>\n",
              "      <th>P/L</th>\n",
              "      <th>P/VP</th>\n",
              "      <th>PSR</th>\n",
              "      <th>Div.Yield</th>\n",
              "      <th>P/Ativo</th>\n",
              "      <th>P/Cap.Giro</th>\n",
              "      <th>P/EBIT</th>\n",
              "      <th>P/Ativ Circ.Liq</th>\n",
              "      <th>EV/EBIT</th>\n",
              "      <th>EV/EBITDA</th>\n",
              "      <th>Mrg Ebit</th>\n",
              "      <th>Mrg. Líq.</th>\n",
              "      <th>Liq. Corr.</th>\n",
              "      <th>ROIC</th>\n",
              "      <th>ROE</th>\n",
              "      <th>Liq.2meses</th>\n",
              "      <th>Patrim. Líq</th>\n",
              "      <th>Dív.Brut/ Patrim.</th>\n",
              "      <th>Cresc. Rec.5a</th>\n",
              "    </tr>\n",
              "  </thead>\n",
              "  <tbody>\n",
              "    <tr>\n",
              "      <th>0</th>\n",
              "      <td>VNET3</td>\n",
              "      <td>0.00</td>\n",
              "      <td>0.00</td>\n",
              "      <td>0.00</td>\n",
              "      <td>0.000</td>\n",
              "      <td>0,00%</td>\n",
              "      <td>0.000</td>\n",
              "      <td>0.00</td>\n",
              "      <td>0.00</td>\n",
              "      <td>0.00</td>\n",
              "      <td>0.00</td>\n",
              "      <td>0.00</td>\n",
              "      <td>0,00%</td>\n",
              "      <td>0,00%</td>\n",
              "      <td>0.00</td>\n",
              "      <td>0,00%</td>\n",
              "      <td>12,99%</td>\n",
              "      <td>0.00</td>\n",
              "      <td>9.257250e+09</td>\n",
              "      <td>0.00</td>\n",
              "      <td>-2,71%</td>\n",
              "    </tr>\n",
              "    <tr>\n",
              "      <th>1</th>\n",
              "      <td>CFLU4</td>\n",
              "      <td>1000.00</td>\n",
              "      <td>0.00</td>\n",
              "      <td>0.00</td>\n",
              "      <td>0.000</td>\n",
              "      <td>0,00%</td>\n",
              "      <td>0.000</td>\n",
              "      <td>0.00</td>\n",
              "      <td>0.00</td>\n",
              "      <td>0.00</td>\n",
              "      <td>0.00</td>\n",
              "      <td>0.00</td>\n",
              "      <td>8,88%</td>\n",
              "      <td>10,72%</td>\n",
              "      <td>1.10</td>\n",
              "      <td>17,68%</td>\n",
              "      <td>32,15%</td>\n",
              "      <td>0.00</td>\n",
              "      <td>6.035100e+07</td>\n",
              "      <td>0.06</td>\n",
              "      <td>8,14%</td>\n",
              "    </tr>\n",
              "    <tr>\n",
              "      <th>2</th>\n",
              "      <td>CLAN3</td>\n",
              "      <td>0.00</td>\n",
              "      <td>0.00</td>\n",
              "      <td>0.00</td>\n",
              "      <td>0.000</td>\n",
              "      <td>0,00%</td>\n",
              "      <td>0.000</td>\n",
              "      <td>0.00</td>\n",
              "      <td>0.00</td>\n",
              "      <td>0.00</td>\n",
              "      <td>0.00</td>\n",
              "      <td>0.00</td>\n",
              "      <td>0,00%</td>\n",
              "      <td>0,00%</td>\n",
              "      <td>0.00</td>\n",
              "      <td>0,00%</td>\n",
              "      <td>-1,05%</td>\n",
              "      <td>0.00</td>\n",
              "      <td>1.012240e+09</td>\n",
              "      <td>0.00</td>\n",
              "      <td>-63,96%</td>\n",
              "    </tr>\n",
              "    <tr>\n",
              "      <th>3</th>\n",
              "      <td>CLSC6</td>\n",
              "      <td>0.00</td>\n",
              "      <td>0.00</td>\n",
              "      <td>0.00</td>\n",
              "      <td>0.000</td>\n",
              "      <td>0,00%</td>\n",
              "      <td>0.000</td>\n",
              "      <td>0.00</td>\n",
              "      <td>0.00</td>\n",
              "      <td>0.00</td>\n",
              "      <td>0.00</td>\n",
              "      <td>0.00</td>\n",
              "      <td>0,00%</td>\n",
              "      <td>0,00%</td>\n",
              "      <td>0.00</td>\n",
              "      <td>0,00%</td>\n",
              "      <td>22,88%</td>\n",
              "      <td>0.00</td>\n",
              "      <td>1.551160e+09</td>\n",
              "      <td>0.00</td>\n",
              "      <td>6,66%</td>\n",
              "    </tr>\n",
              "    <tr>\n",
              "      <th>4</th>\n",
              "      <td>CSTB3</td>\n",
              "      <td>150.00</td>\n",
              "      <td>0.00</td>\n",
              "      <td>0.00</td>\n",
              "      <td>0.000</td>\n",
              "      <td>0,00%</td>\n",
              "      <td>0.000</td>\n",
              "      <td>0.00</td>\n",
              "      <td>0.00</td>\n",
              "      <td>0.00</td>\n",
              "      <td>0.00</td>\n",
              "      <td>0.00</td>\n",
              "      <td>40,85%</td>\n",
              "      <td>28,98%</td>\n",
              "      <td>2.60</td>\n",
              "      <td>22,40%</td>\n",
              "      <td>20,11%</td>\n",
              "      <td>0.00</td>\n",
              "      <td>8.420670e+09</td>\n",
              "      <td>0.14</td>\n",
              "      <td>31,91%</td>\n",
              "    </tr>\n",
              "    <tr>\n",
              "      <th>...</th>\n",
              "      <td>...</td>\n",
              "      <td>...</td>\n",
              "      <td>...</td>\n",
              "      <td>...</td>\n",
              "      <td>...</td>\n",
              "      <td>...</td>\n",
              "      <td>...</td>\n",
              "      <td>...</td>\n",
              "      <td>...</td>\n",
              "      <td>...</td>\n",
              "      <td>...</td>\n",
              "      <td>...</td>\n",
              "      <td>...</td>\n",
              "      <td>...</td>\n",
              "      <td>...</td>\n",
              "      <td>...</td>\n",
              "      <td>...</td>\n",
              "      <td>...</td>\n",
              "      <td>...</td>\n",
              "      <td>...</td>\n",
              "      <td>...</td>\n",
              "    </tr>\n",
              "    <tr>\n",
              "      <th>881</th>\n",
              "      <td>CEPE6</td>\n",
              "      <td>20.00</td>\n",
              "      <td>1545.85</td>\n",
              "      <td>0.90</td>\n",
              "      <td>-18.326</td>\n",
              "      <td>3,46%</td>\n",
              "      <td>0.167</td>\n",
              "      <td>-9.71</td>\n",
              "      <td>71.38</td>\n",
              "      <td>-0.33</td>\n",
              "      <td>309.99</td>\n",
              "      <td>256.58</td>\n",
              "      <td>-25,67%</td>\n",
              "      <td>-1,19%</td>\n",
              "      <td>0.95</td>\n",
              "      <td>0,27%</td>\n",
              "      <td>0,06%</td>\n",
              "      <td>428.57</td>\n",
              "      <td>1.667000e+09</td>\n",
              "      <td>3.36</td>\n",
              "      <td>8,63%</td>\n",
              "    </tr>\n",
              "    <tr>\n",
              "      <th>882</th>\n",
              "      <td>CEPE3</td>\n",
              "      <td>24.53</td>\n",
              "      <td>1895.99</td>\n",
              "      <td>1.10</td>\n",
              "      <td>-22.477</td>\n",
              "      <td>0,00%</td>\n",
              "      <td>0.204</td>\n",
              "      <td>-11.91</td>\n",
              "      <td>87.55</td>\n",
              "      <td>-0.41</td>\n",
              "      <td>326.16</td>\n",
              "      <td>269.96</td>\n",
              "      <td>-25,67%</td>\n",
              "      <td>-1,19%</td>\n",
              "      <td>0.95</td>\n",
              "      <td>0,27%</td>\n",
              "      <td>0,06%</td>\n",
              "      <td>0.00</td>\n",
              "      <td>1.667000e+09</td>\n",
              "      <td>3.36</td>\n",
              "      <td>8,63%</td>\n",
              "    </tr>\n",
              "    <tr>\n",
              "      <th>883</th>\n",
              "      <td>CEPE5</td>\n",
              "      <td>25.11</td>\n",
              "      <td>1940.81</td>\n",
              "      <td>1.12</td>\n",
              "      <td>-23.008</td>\n",
              "      <td>2,51%</td>\n",
              "      <td>0.209</td>\n",
              "      <td>-12.19</td>\n",
              "      <td>89.62</td>\n",
              "      <td>-0.42</td>\n",
              "      <td>328.23</td>\n",
              "      <td>271.68</td>\n",
              "      <td>-25,67%</td>\n",
              "      <td>-1,19%</td>\n",
              "      <td>0.95</td>\n",
              "      <td>0,27%</td>\n",
              "      <td>0,06%</td>\n",
              "      <td>0.00</td>\n",
              "      <td>1.667000e+09</td>\n",
              "      <td>3.36</td>\n",
              "      <td>8,63%</td>\n",
              "    </tr>\n",
              "    <tr>\n",
              "      <th>884</th>\n",
              "      <td>BRAP3</td>\n",
              "      <td>31.66</td>\n",
              "      <td>1953.68</td>\n",
              "      <td>1.05</td>\n",
              "      <td>0.000</td>\n",
              "      <td>2,30%</td>\n",
              "      <td>0.999</td>\n",
              "      <td>0.00</td>\n",
              "      <td>-630.87</td>\n",
              "      <td>0.00</td>\n",
              "      <td>-632.35</td>\n",
              "      <td>-632.35</td>\n",
              "      <td>0,00%</td>\n",
              "      <td>0,00%</td>\n",
              "      <td>0.00</td>\n",
              "      <td>0,00%</td>\n",
              "      <td>0,05%</td>\n",
              "      <td>1592720.00</td>\n",
              "      <td>1.052240e+10</td>\n",
              "      <td>0.00</td>\n",
              "      <td>0,00%</td>\n",
              "    </tr>\n",
              "    <tr>\n",
              "      <th>885</th>\n",
              "      <td>BRAP4</td>\n",
              "      <td>35.25</td>\n",
              "      <td>2175.21</td>\n",
              "      <td>1.17</td>\n",
              "      <td>0.000</td>\n",
              "      <td>2,27%</td>\n",
              "      <td>1.112</td>\n",
              "      <td>0.00</td>\n",
              "      <td>-702.41</td>\n",
              "      <td>0.00</td>\n",
              "      <td>-703.88</td>\n",
              "      <td>-703.88</td>\n",
              "      <td>0,00%</td>\n",
              "      <td>0,00%</td>\n",
              "      <td>0.00</td>\n",
              "      <td>0,00%</td>\n",
              "      <td>0,05%</td>\n",
              "      <td>84856400.00</td>\n",
              "      <td>1.052240e+10</td>\n",
              "      <td>0.00</td>\n",
              "      <td>0,00%</td>\n",
              "    </tr>\n",
              "  </tbody>\n",
              "</table>\n",
              "<p>886 rows × 21 columns</p>\n",
              "</div>"
            ],
            "text/plain": [
              "     Papel  Cotação      P/L  ...   Patrim. Líq  Dív.Brut/ Patrim. Cresc. Rec.5a\n",
              "0    VNET3     0.00     0.00  ...  9.257250e+09               0.00        -2,71%\n",
              "1    CFLU4  1000.00     0.00  ...  6.035100e+07               0.06         8,14%\n",
              "2    CLAN3     0.00     0.00  ...  1.012240e+09               0.00       -63,96%\n",
              "3    CLSC6     0.00     0.00  ...  1.551160e+09               0.00         6,66%\n",
              "4    CSTB3   150.00     0.00  ...  8.420670e+09               0.14        31,91%\n",
              "..     ...      ...      ...  ...           ...                ...           ...\n",
              "881  CEPE6    20.00  1545.85  ...  1.667000e+09               3.36         8,63%\n",
              "882  CEPE3    24.53  1895.99  ...  1.667000e+09               3.36         8,63%\n",
              "883  CEPE5    25.11  1940.81  ...  1.667000e+09               3.36         8,63%\n",
              "884  BRAP3    31.66  1953.68  ...  1.052240e+10               0.00         0,00%\n",
              "885  BRAP4    35.25  2175.21  ...  1.052240e+10               0.00         0,00%\n",
              "\n",
              "[886 rows x 21 columns]"
            ]
          },
          "metadata": {
            "tags": []
          },
          "execution_count": 86
        }
      ]
    },
    {
      "cell_type": "code",
      "metadata": {
        "id": "EjpRCHf02cwo",
        "colab_type": "code",
        "colab": {}
      },
      "source": [
        "set_with_dataframe(pagina_fundamentus, df)"
      ],
      "execution_count": 0,
      "outputs": []
    }
  ]
}