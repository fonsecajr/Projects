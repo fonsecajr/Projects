{
  "nbformat": 4,
  "nbformat_minor": 0,
  "metadata": {
    "colab": {
      "name": "ftp_fetching_getting.ipynb",
      "provenance": [],
      "authorship_tag": "ABX9TyNh/YNx7heSIyHH3qOpcvrC",
      "include_colab_link": true
    },
    "kernelspec": {
      "name": "python3",
      "display_name": "Python 3"
    }
  },
  "cells": [
    {
      "cell_type": "markdown",
      "metadata": {
        "id": "view-in-github",
        "colab_type": "text"
      },
      "source": [
        "<a href=\"https://colab.research.google.com/github/fonsecajr/Projects/blob/master/ftp_fetching_getting.ipynb\" target=\"_parent\"><img src=\"https://colab.research.google.com/assets/colab-badge.svg\" alt=\"Open In Colab\"/></a>"
      ]
    },
    {
      "cell_type": "code",
      "metadata": {
        "id": "MkB5F5JO2ppZ",
        "colab_type": "code",
        "colab": {}
      },
      "source": [
        "import ftplib as FTP"
      ],
      "execution_count": 1,
      "outputs": []
    },
    {
      "cell_type": "code",
      "metadata": {
        "id": "gs9p0NUO2rom",
        "colab_type": "code",
        "colab": {}
      },
      "source": [
        "ftp = FTP.FTP('ftp1.xxx.com.mx', user='xxx', passwd='xxx')"
      ],
      "execution_count": 2,
      "outputs": []
    },
    {
      "cell_type": "code",
      "metadata": {
        "id": "k32L_cY82uvR",
        "colab_type": "code",
        "colab": {
          "base_uri": "https://localhost:8080/",
          "height": 33
        },
        "outputId": "9d65b233-688d-4978-9a9e-720df5db8265"
      },
      "source": [
        "names = ftp.nlst()\n",
        "\n",
        "latest_time = None\n",
        "latest_name = None\n",
        "\n",
        "for name in names:\n",
        "    time = ftp.voidcmd(\"MDTM \" + name)\n",
        "    if (latest_time is None) or (time > latest_time):\n",
        "        latest_name = name\n",
        "        latest_time = time\n",
        "\n",
        "print(latest_name)"
      ],
      "execution_count": 3,
      "outputs": [
        {
          "output_type": "stream",
          "text": [
            "VENTAS_20200707.csv\n"
          ],
          "name": "stdout"
        }
      ]
    },
    {
      "cell_type": "code",
      "metadata": {
        "id": "Dxl9lrvC2zLS",
        "colab_type": "code",
        "colab": {
          "base_uri": "https://localhost:8080/",
          "height": 35
        },
        "outputId": "524c69ea-50c2-42dd-bee3-835c84393172"
      },
      "source": [
        "ftp.retrbinary(\"RETR \" + latest_name ,open(latest_name, 'wb').write)"
      ],
      "execution_count": 4,
      "outputs": [
        {
          "output_type": "execute_result",
          "data": {
            "application/vnd.google.colaboratory.intrinsic": {
              "type": "string"
            },
            "text/plain": [
              "'226 Transfer complete.'"
            ]
          },
          "metadata": {
            "tags": []
          },
          "execution_count": 4
        }
      ]
    },
    {
      "cell_type": "code",
      "metadata": {
        "id": "wObQtajW207H",
        "colab_type": "code",
        "colab": {
          "base_uri": "https://localhost:8080/",
          "height": 35
        },
        "outputId": "f9d0ccf9-ab5a-4073-bd25-a0b990a5453e"
      },
      "source": [
        "ftp.quit()"
      ],
      "execution_count": 5,
      "outputs": [
        {
          "output_type": "execute_result",
          "data": {
            "application/vnd.google.colaboratory.intrinsic": {
              "type": "string"
            },
            "text/plain": [
              "'221-Gracias por usar el servicio \\n221 Bye.........'"
            ]
          },
          "metadata": {
            "tags": []
          },
          "execution_count": 5
        }
      ]
    }
  ]
}